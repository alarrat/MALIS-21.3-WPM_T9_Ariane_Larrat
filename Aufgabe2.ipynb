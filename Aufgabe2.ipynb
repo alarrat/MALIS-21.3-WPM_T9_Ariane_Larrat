{
 "cells": [
  {
   "cell_type": "code",
   "execution_count": 237,
   "id": "34ebf985",
   "metadata": {},
   "outputs": [],
   "source": [
    "# A) File Rename With Image Metadata and Suffix\n",
    "\n",
    "# STEPS:\n",
    "\n",
    "# 1. Target each image in our root directory (where the image files are stored)\n",
    "# 2. Strip datetime metadata from each image\n",
    "# 3. Rename each image using datetime string and Suffix \"Header\" / \"Thumbnail\""
   ]
  },
  {
   "cell_type": "code",
   "execution_count": 238,
   "id": "ef2fa575",
   "metadata": {},
   "outputs": [],
   "source": [
    "# Import libraries (based on research for suitable libraries)"
   ]
  },
  {
   "cell_type": "code",
   "execution_count": 239,
   "id": "9992dcca",
   "metadata": {},
   "outputs": [],
   "source": [
    "import os # interact with operating system"
   ]
  },
  {
   "cell_type": "code",
   "execution_count": 240,
   "id": "c4056618",
   "metadata": {},
   "outputs": [],
   "source": [
    "import pathlib # interact with file system (because we want to rename files)"
   ]
  },
  {
   "cell_type": "code",
   "execution_count": 241,
   "id": "e609d76a",
   "metadata": {},
   "outputs": [],
   "source": [
    "from datetime import datetime # Import date time module"
   ]
  },
  {
   "cell_type": "code",
   "execution_count": 242,
   "id": "55fb71d3",
   "metadata": {},
   "outputs": [],
   "source": [
    "def unix2datetime(unix): # Definition of a funtion (Convert unix timestamp to utc datetime string (for human readable date, research with stack overflow)\n",
    "    return datetime.utcfromtimestamp(unix).strftime('%Y%m%d_%H%M%S') # Create date according to ISO 8601"
   ]
  },
  {
   "cell_type": "code",
   "execution_count": 243,
   "id": "d87b158c",
   "metadata": {},
   "outputs": [],
   "source": [
    "# Define root directory and target root directory and each file path."
   ]
  },
  {
   "cell_type": "code",
   "execution_count": 244,
   "id": "c6434114",
   "metadata": {},
   "outputs": [],
   "source": [
    "root_dir = '.' # currently running folder > script is located in this folder"
   ]
  },
  {
   "cell_type": "code",
   "execution_count": 245,
   "id": "4f485119",
   "metadata": {},
   "outputs": [],
   "source": [
    "# for-Loop"
   ]
  },
  {
   "cell_type": "code",
   "execution_count": 246,
   "id": "ddb5fb73",
   "metadata": {},
   "outputs": [
    {
     "name": "stdout",
     "output_type": "stream",
     "text": [
      "Livestream_AdobeStock_443965209_DC-Studio_1200-630_f -> 20220510_090224_header.jpeg\n",
      "AdobeStock_247584821_sasun-Bughdaryan_f -> 20220518_064356_header.jpeg\n",
      "PowerPoint-e1652293459898 -> 20220511_162418_header.jpeg\n",
      "AdobeStock_408070387_tirachard_f -> 20220519_122402_header.jpeg\n",
      "AdobeStock_206335382_Gorodenkoff_f -> 20220517_062606_header.jpeg\n",
      "Zoom-scaled-e1652286857174 -> 20220511_143416_header.jpeg\n",
      "AdobeStock_349226083_ronstik_f -> 20220518_062620_header.jpeg\n",
      "Schmuckbild-Hybride-Veranstaltung-e1652303231125 -> 20220511_190710_header.jpeg\n",
      "AdobeStock_493546702_Andrey-Popov_f -> 20220520_101126_header.jpeg\n",
      "Forschendes-Lernen-1-e1652296208947 -> 20220511_171008_header.jpeg\n",
      "MS-Teams-scaled-e1652285914608 -> 20220511_141834_header.jpeg\n",
      "AdobeStock_499774001_-Jacob-Lund_f -> 20220520_091524_header.jpeg\n",
      "Schmuckbild-Kompetenzorientierung-neu-e1652301333120 -> 20220511_183532_header.jpeg\n",
      "Lehrvideos-e1652293941956 -> 20220511_163220_header.jpeg\n",
      "Schmuckbild-Diversity-1-e1652774593638 -> 20220517_060312_header.jpeg\n",
      "OER-Schmuckbild-final-e1652299268243 -> 20220511_180108_header.jpeg\n",
      "ismael-paramo-BqzUoLGqbm0-unsplash1-scaled-e1652286248220 -> 20220511_142408_header.jpeg\n",
      "AdobeStock_263904335_golubovy_f -> 20220519_120120_header.jpeg\n"
     ]
    }
   ],
   "source": [
    "for path in pathlib.Path(root_dir).iterdir(): # Path class definition. Instances of the Path class represent a path to a file or directory. Call this path's object iterator.\n",
    "    info = path.stat() # Extract metadata from each file path\n",
    "    mtime = info.st_mtime # Extract creation time (after metadata has been analyzed)\n",
    "    date_created = unix2datetime(mtime) # Add function unix2datetime to convert unix timestamp\n",
    "    header = ('_header') # Define suffix to distinguish header and thumbnail from each other\n",
    "    file_name, file_extension = os.path.splitext(path) # To extract an extension of a file name (splits the pathname into the pair of root and ext)\n",
    "    if file_extension != '.jpeg': # based on the existing .jpeg file formats of the image files; also script with extension .py is in folder, so file type must be defined\n",
    "        continue # Go to next iteration.\n",
    "    new_filename = date_created + header + file_extension # Define the new file name.\n",
    "    os.rename(path, new_filename) # Rename the file with os module (old name, new name)\n",
    "    print(file_name, '->', new_filename)"
   ]
  },
  {
   "cell_type": "code",
   "execution_count": 247,
   "id": "37e9e75a",
   "metadata": {},
   "outputs": [
    {
     "name": "stdout",
     "output_type": "stream",
     "text": [
      "Powerpoint-Logo-e1652294089962 -> 20220511_163448_thumbnail.png\n",
      "Mentimeter_Logo-e1652294956288 -> 20220511_164916_thumbnail.png\n",
      "miro-logo-e1652297105879 -> 20220624_211405_thumbnail.png\n",
      "Zoom-Logo-e1652287054151 -> 20220511_143734_thumbnail.png\n",
      "ILIAS-Logo -> 20220512_080130_thumbnail.png\n",
      "Microsoft_Office_Teams_2018–present.svg_-e1652286064116 -> 20220511_142104_thumbnail.png\n",
      "frag.jetzt_Logo-e1652281901215 -> 20220511_131140_thumbnail.png\n",
      "Camtasia_Logo-e1652283047191 -> 20220624_211400_thumbnail.png\n",
      "OBS_Logo-e1652281859679 -> 20220511_131058_thumbnail.png\n"
     ]
    }
   ],
   "source": [
    "for path in pathlib.Path(root_dir).iterdir(): # Path class definition. Instances of the Path class represent a path to a file or directory. Call this path's object iterator.\n",
    "    info = path.stat() # Extract metadata from each file path\n",
    "    mtime = info.st_mtime # Extract creation time (after metadata has been analyzed)\n",
    "    date_created = unix2datetime(mtime) # Add function unix2datetime to convert unix timestamp\n",
    "    thumbnail = ('_thumbnail')  # Define suffix to distinguish header and thumbnail from each other\n",
    "    file_name, file_extension = os.path.splitext(path) # To extract an extension of a file name (splits the pathname into the pair of root and ext)\n",
    "    if file_extension != '.png': # based on the existing .png file formats of the image files; also script with extension .py is in folder, so file type must be defined\n",
    "        continue # Go to next iteration.\n",
    "    new_filename = date_created + thumbnail + file_extension # Define the new file name.\n",
    "    os.rename(path, new_filename) # Rename the file with os module (old name, new name)\n",
    "    print(file_name, '->', new_filename)"
   ]
  },
  {
   "cell_type": "code",
   "execution_count": 248,
   "id": "e470bf51",
   "metadata": {},
   "outputs": [],
   "source": [
    "# B) Header Image modification (Grayscale + Resize) with pillow\n",
    "\n",
    "# STEPS:\n",
    "\n",
    "# 1. Convert RGB images to grayscale (only header)\n",
    "# 2. Resize images (only header)"
   ]
  },
  {
   "cell_type": "code",
   "execution_count": 249,
   "id": "94b2442c",
   "metadata": {},
   "outputs": [],
   "source": [
    "from PIL import Image"
   ]
  },
  {
   "cell_type": "code",
   "execution_count": 250,
   "id": "ef814e98",
   "metadata": {},
   "outputs": [],
   "source": [
    "root_dir = '.'"
   ]
  },
  {
   "cell_type": "code",
   "execution_count": 251,
   "id": "f67b8fea",
   "metadata": {},
   "outputs": [],
   "source": [
    "for file in os.listdir(root_dir):\n",
    "    if file.endswith(\".jpeg\"):\n",
    "        img = Image.open(file)\n",
    "        img_resize = img.resize((1048, 550))\n",
    "        img_resize.save(file)\n",
    "        imgGray = img.convert('L')\n",
    "        imgGray.save(file)"
   ]
  },
  {
   "cell_type": "code",
   "execution_count": 252,
   "id": "9380028f",
   "metadata": {},
   "outputs": [],
   "source": [
    "# C) Thumbnail Image modification (Resize)\n",
    "\n",
    "# STEPS: \n",
    "\n",
    "# 1. Resize images (only thumbnail)"
   ]
  },
  {
   "cell_type": "code",
   "execution_count": 253,
   "id": "e0566f80",
   "metadata": {},
   "outputs": [],
   "source": [
    "for file in os.listdir(root_dir):\n",
    "    if file.endswith(\".png\"):\n",
    "        img = Image.open(file)\n",
    "        img_resize = img.resize((150, 150))\n",
    "        img_resize.save(file)"
   ]
  },
  {
   "cell_type": "code",
   "execution_count": 254,
   "id": "4ad14d92",
   "metadata": {},
   "outputs": [],
   "source": [
    "# D) Convert Images to WEBP\n",
    "\n",
    "# STEPS:\n",
    "\n",
    "# 1. "
   ]
  },
  {
   "cell_type": "code",
   "execution_count": 255,
   "id": "db915206",
   "metadata": {},
   "outputs": [],
   "source": [
    "from PIL import Image"
   ]
  },
  {
   "cell_type": "code",
   "execution_count": 256,
   "id": "7a895c67",
   "metadata": {},
   "outputs": [],
   "source": [
    "import glob, os"
   ]
  },
  {
   "cell_type": "code",
   "execution_count": 257,
   "id": "df69d87e",
   "metadata": {},
   "outputs": [],
   "source": [
    "for infile in glob.glob(\"*.jpeg\"):\n",
    "    file, ext = os.path.splitext(infile)\n",
    "    im = Image.open(infile).convert(\"RGB\")\n",
    "    im.save(file + \".webp\", \"WEBP\")"
   ]
  },
  {
   "cell_type": "code",
   "execution_count": 260,
   "id": "1d4a8b65",
   "metadata": {},
   "outputs": [],
   "source": [
    "for infile in glob.glob(\"*.png\"):\n",
    "    file, ext = os.path.splitext(infile)\n",
    "    im = Image.open(infile).convert(\"RGB\")\n",
    "    im.save(file + \".webp\", \"WEBP\")"
   ]
  },
  {
   "cell_type": "code",
   "execution_count": 261,
   "id": "1707bae7",
   "metadata": {},
   "outputs": [],
   "source": [
    "# E) Storage in two folders \n",
    "\n",
    "# STEPS:\n",
    "\n",
    "# 1."
   ]
  },
  {
   "cell_type": "code",
   "execution_count": 1,
   "id": "dd34924b",
   "metadata": {},
   "outputs": [],
   "source": [
    "import os"
   ]
  },
  {
   "cell_type": "code",
   "execution_count": 3,
   "id": "117e616b",
   "metadata": {},
   "outputs": [],
   "source": [
    "directory = \"webp_data\""
   ]
  },
  {
   "cell_type": "code",
   "execution_count": 4,
   "id": "85eb0467",
   "metadata": {},
   "outputs": [],
   "source": [
    "root_dir = '.'"
   ]
  },
  {
   "cell_type": "code",
   "execution_count": 5,
   "id": "ec656e34",
   "metadata": {},
   "outputs": [],
   "source": [
    "path = os.path.join(root_dir, directory)"
   ]
  },
  {
   "cell_type": "code",
   "execution_count": 6,
   "id": "7e275e93",
   "metadata": {},
   "outputs": [
    {
     "name": "stdout",
     "output_type": "stream",
     "text": [
      "Directory 'webp_data' created\n"
     ]
    }
   ],
   "source": [
    "os.mkdir(path)\n",
    "print(\"Directory '% s' created\" % directory)"
   ]
  },
  {
   "cell_type": "code",
   "execution_count": null,
   "id": "d147faa7",
   "metadata": {},
   "outputs": [],
   "source": []
  }
 ],
 "metadata": {
  "kernelspec": {
   "display_name": "Python 3 (ipykernel)",
   "language": "python",
   "name": "python3"
  },
  "language_info": {
   "codemirror_mode": {
    "name": "ipython",
    "version": 3
   },
   "file_extension": ".py",
   "mimetype": "text/x-python",
   "name": "python",
   "nbconvert_exporter": "python",
   "pygments_lexer": "ipython3",
   "version": "3.9.7"
  }
 },
 "nbformat": 4,
 "nbformat_minor": 5
}
