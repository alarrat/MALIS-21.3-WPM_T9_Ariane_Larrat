{
 "cells": [
  {
   "cell_type": "code",
   "execution_count": 1,
   "id": "34ebf985",
   "metadata": {},
   "outputs": [],
   "source": [
    "# A) File Rename With Image Metadata\n",
    "\n",
    "# 1. Target each image in our root directory (where the image files are stored)\n",
    "# 2. Strip datetime metadata from each image\n",
    "# 3. Rename each image using datetime string"
   ]
  },
  {
   "cell_type": "code",
   "execution_count": 2,
   "id": "ef2fa575",
   "metadata": {},
   "outputs": [],
   "source": [
    "# Import libraries (based on research for suitable libraries)"
   ]
  },
  {
   "cell_type": "code",
   "execution_count": 3,
   "id": "9992dcca",
   "metadata": {},
   "outputs": [],
   "source": [
    "import os # interact with operating system"
   ]
  },
  {
   "cell_type": "code",
   "execution_count": 4,
   "id": "c4056618",
   "metadata": {},
   "outputs": [],
   "source": [
    "import pathlib # interact with file system (because we want to rename files)"
   ]
  },
  {
   "cell_type": "code",
   "execution_count": 5,
   "id": "e609d76a",
   "metadata": {},
   "outputs": [],
   "source": [
    "from datetime import datetime # Import date time module"
   ]
  },
  {
   "cell_type": "code",
   "execution_count": 6,
   "id": "55fb71d3",
   "metadata": {},
   "outputs": [],
   "source": [
    "def unix2datetime(unix): # Definition of a funtion (Convert unix timestamp to utc datetime string (for human readable date, research with stack overflow)\n",
    "    return datetime.utcfromtimestamp(unix).strftime('%Y%m%d_%H%M%S') # Create date according to ISO 8601"
   ]
  },
  {
   "cell_type": "code",
   "execution_count": 7,
   "id": "d87b158c",
   "metadata": {},
   "outputs": [],
   "source": [
    "# Define root directory and target root directory and each file path."
   ]
  },
  {
   "cell_type": "code",
   "execution_count": 8,
   "id": "c6434114",
   "metadata": {},
   "outputs": [],
   "source": [
    "root_dir = '.' # currently running folder > script is located in this folder"
   ]
  },
  {
   "cell_type": "code",
   "execution_count": 9,
   "id": "4f485119",
   "metadata": {},
   "outputs": [],
   "source": [
    "# for-Loop"
   ]
  },
  {
   "cell_type": "code",
   "execution_count": 10,
   "id": "ddb5fb73",
   "metadata": {},
   "outputs": [
    {
     "name": "stdout",
     "output_type": "stream",
     "text": [
      "Livestream_AdobeStock_443965209_DC-Studio_1200-630_f -> 20220510_090224.jpeg\n",
      "AdobeStock_247584821_sasun-Bughdaryan_f -> 20220518_064356.jpeg\n",
      "PowerPoint-e1652293459898 -> 20220511_162418.jpeg\n",
      "AdobeStock_408070387_tirachard_f -> 20220519_122402.jpeg\n",
      "AdobeStock_206335382_Gorodenkoff_f -> 20220517_062606.jpeg\n",
      "Zoom-scaled-e1652286857174 -> 20220511_143416.jpeg\n",
      "AdobeStock_349226083_ronstik_f -> 20220518_062620.jpeg\n",
      "Schmuckbild-Hybride-Veranstaltung-e1652303231125 -> 20220511_190710.jpeg\n",
      "AdobeStock_493546702_Andrey-Popov_f -> 20220520_101126.jpeg\n",
      "Forschendes-Lernen-1-e1652296208947 -> 20220511_171008.jpeg\n",
      "MS-Teams-scaled-e1652285914608 -> 20220511_141834.jpeg\n",
      "AdobeStock_499774001_-Jacob-Lund_f -> 20220520_091524.jpeg\n",
      "Schmuckbild-Kompetenzorientierung-neu-e1652301333120 -> 20220511_183532.jpeg\n",
      "Lehrvideos-e1652293941956 -> 20220511_163220.jpeg\n",
      "Schmuckbild-Diversity-1-e1652774593638 -> 20220517_060312.jpeg\n",
      "OER-Schmuckbild-final-e1652299268243 -> 20220511_180108.jpeg\n",
      "ismael-paramo-BqzUoLGqbm0-unsplash1-scaled-e1652286248220 -> 20220511_142408.jpeg\n",
      "AdobeStock_263904335_golubovy_f -> 20220519_120120.jpeg\n"
     ]
    }
   ],
   "source": [
    "for path in pathlib.Path(root_dir).iterdir(): # Path class definition. Instances of the Path class represent a path to a file or directory. Call this path's object iterator.\n",
    "    info = path.stat() # Extract metadata from each file path\n",
    "    mtime = info.st_mtime # Extract creation time (after metadata has been analyzed)\n",
    "    date_created = unix2datetime(mtime) # Add function unix2datetime to convert unix timestamp\n",
    "    file_name, file_extension = os.path.splitext(path) # To extract an extension of a file name (splits the pathname into the pair of root and ext)\n",
    "    if file_extension != '.jpeg': # based on the existing .jpeg file formats of the image files; also script with extension .py is in folder, so file type must be defined\n",
    "        continue # Go to next iteration.\n",
    "    new_filename = date_created + file_extension # Define the new file name.\n",
    "    os.rename(path, new_filename) # Rename the file with os module (old name, new name)\n",
    "    print(file_name, '->', new_filename)"
   ]
  },
  {
   "cell_type": "code",
   "execution_count": 11,
   "id": "e470bf51",
   "metadata": {},
   "outputs": [],
   "source": [
    "# B) Image modification (Grayscale + Resize) with pillow\n",
    "\n",
    "# 1. Convert RGB images to grayscale\n",
    "# 2. Resize images"
   ]
  },
  {
   "cell_type": "code",
   "execution_count": 12,
   "id": "94b2442c",
   "metadata": {},
   "outputs": [],
   "source": [
    "from PIL import Image"
   ]
  },
  {
   "cell_type": "code",
   "execution_count": 13,
   "id": "ef814e98",
   "metadata": {},
   "outputs": [],
   "source": [
    "root_dir = '.'"
   ]
  },
  {
   "cell_type": "code",
   "execution_count": 14,
   "id": "f67b8fea",
   "metadata": {},
   "outputs": [],
   "source": [
    "for file in os.listdir(root_dir):\n",
    "    if file.endswith(\".jpeg\"):\n",
    "        img = Image.open(file)\n",
    "        img_resize = img.resize((1048, 550))\n",
    "        img_resize.save(file)\n",
    "        imgGray = img.convert('L')\n",
    "        imgGray.save(file)"
   ]
  }
 ],
 "metadata": {
  "kernelspec": {
   "display_name": "Python 3 (ipykernel)",
   "language": "python",
   "name": "python3"
  },
  "language_info": {
   "codemirror_mode": {
    "name": "ipython",
    "version": 3
   },
   "file_extension": ".py",
   "mimetype": "text/x-python",
   "name": "python",
   "nbconvert_exporter": "python",
   "pygments_lexer": "ipython3",
   "version": "3.9.7"
  }
 },
 "nbformat": 4,
 "nbformat_minor": 5
}
