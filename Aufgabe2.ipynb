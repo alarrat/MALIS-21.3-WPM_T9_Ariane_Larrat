{
 "cells": [
  {
   "cell_type": "code",
   "execution_count": 1,
   "id": "34ebf985",
   "metadata": {},
   "outputs": [],
   "source": [
    "# A) File Rename With Image Metadata and Suffix\n",
    "\n",
    "# STEPS:\n",
    "\n",
    "# 1. Target each image in root directory (where the image files are stored)\n",
    "# 2. Strip datetime metadata from each image\n",
    "# 3. Rename each image using datetime string and Suffix \"Header\" / \"Thumbnail\""
   ]
  },
  {
   "cell_type": "code",
   "execution_count": 2,
   "id": "ef2fa575",
   "metadata": {},
   "outputs": [],
   "source": [
    "# Import libraries (based on research for suitable libraries)"
   ]
  },
  {
   "cell_type": "code",
   "execution_count": 3,
   "id": "9992dcca",
   "metadata": {},
   "outputs": [],
   "source": [
    "import os # interact with operating system"
   ]
  },
  {
   "cell_type": "code",
   "execution_count": 4,
   "id": "c4056618",
   "metadata": {},
   "outputs": [],
   "source": [
    "import pathlib # interact with file system (because we want to rename files)"
   ]
  },
  {
   "cell_type": "code",
   "execution_count": 5,
   "id": "e609d76a",
   "metadata": {},
   "outputs": [],
   "source": [
    "from datetime import datetime # Import date time module"
   ]
  },
  {
   "cell_type": "code",
   "execution_count": 6,
   "id": "55fb71d3",
   "metadata": {},
   "outputs": [],
   "source": [
    "def unix2datetime(unix): # Definition of a funtion (Convert unix timestamp to utc datetime string (for human readable date, research with stack overflow)\n",
    "    return datetime.utcfromtimestamp(unix).strftime('%Y%m%d_%H%M%S') # Create date according to ISO 8601"
   ]
  },
  {
   "cell_type": "code",
   "execution_count": 7,
   "id": "d87b158c",
   "metadata": {},
   "outputs": [],
   "source": [
    "# Define root directory and target root directory and each file path."
   ]
  },
  {
   "cell_type": "code",
   "execution_count": 8,
   "id": "c6434114",
   "metadata": {},
   "outputs": [],
   "source": [
    "root_dir = '.' # currently running folder > script is located in this folder"
   ]
  },
  {
   "cell_type": "code",
   "execution_count": 9,
   "id": "ddb5fb73",
   "metadata": {},
   "outputs": [
    {
     "name": "stdout",
     "output_type": "stream",
     "text": [
      "Livestream_AdobeStock_443965209_DC-Studio_1200-630_f -> 20220510_090224_header.jpeg\n",
      "AdobeStock_247584821_sasun-Bughdaryan_f -> 20220518_064356_header.jpeg\n",
      "PowerPoint-e1652293459898 -> 20220511_162418_header.jpeg\n",
      "AdobeStock_408070387_tirachard_f -> 20220519_122402_header.jpeg\n",
      "AdobeStock_206335382_Gorodenkoff_f -> 20220517_062606_header.jpeg\n",
      "Zoom-scaled-e1652286857174 -> 20220511_143416_header.jpeg\n",
      "AdobeStock_349226083_ronstik_f -> 20220518_062620_header.jpeg\n",
      "Schmuckbild-Hybride-Veranstaltung-e1652303231125 -> 20220511_190710_header.jpeg\n",
      "AdobeStock_493546702_Andrey-Popov_f -> 20220520_101126_header.jpeg\n",
      "Forschendes-Lernen-1-e1652296208947 -> 20220511_171008_header.jpeg\n",
      "MS-Teams-scaled-e1652285914608 -> 20220511_141834_header.jpeg\n",
      "AdobeStock_499774001_-Jacob-Lund_f -> 20220520_091524_header.jpeg\n",
      "Schmuckbild-Kompetenzorientierung-neu-e1652301333120 -> 20220511_183532_header.jpeg\n",
      "Lehrvideos-e1652293941956 -> 20220511_163220_header.jpeg\n",
      "Schmuckbild-Diversity-1-e1652774593638 -> 20220517_060312_header.jpeg\n",
      "OER-Schmuckbild-final-e1652299268243 -> 20220511_180108_header.jpeg\n",
      "ismael-paramo-BqzUoLGqbm0-unsplash1-scaled-e1652286248220 -> 20220511_142408_header.jpeg\n",
      "AdobeStock_263904335_golubovy_f -> 20220519_120120_header.jpeg\n"
     ]
    }
   ],
   "source": [
    "for path in pathlib.Path(root_dir).iterdir(): # Path class definition. Instances of the Path class represent a path to a file or directory. Call this path's object iterator.\n",
    "    info = path.stat() # Extract metadata from each file path\n",
    "    mtime = info.st_mtime # Extract creation time (after metadata has been analyzed)\n",
    "    date_created = unix2datetime(mtime) # Add function unix2datetime to convert unix timestamp\n",
    "    header = ('_header') # Define suffix to distinguish header and thumbnail from each other\n",
    "    file_name, file_extension = os.path.splitext(path) # To extract an extension of a file name (splits the pathname into the pair of root and ext)\n",
    "    if file_extension != '.jpeg': # based on the existing .jpeg file formats of the image files; also script with extension .py is in folder, so file type must be defined\n",
    "        continue # Go to next iteration.\n",
    "    new_filename = date_created + header + file_extension # Define the new file name.\n",
    "    os.rename(path, new_filename) # Rename the file with os module (old name, new name)\n",
    "    print(file_name, '->', new_filename) # Printing from old file name to new file name = renaming process"
   ]
  },
  {
   "cell_type": "code",
   "execution_count": 10,
   "id": "37e9e75a",
   "metadata": {},
   "outputs": [
    {
     "name": "stdout",
     "output_type": "stream",
     "text": [
      "Powerpoint-Logo-e1652294089962 -> 20220511_163448_thumbnail.png\n",
      "Mentimeter_Logo-e1652294956288 -> 20220511_164916_thumbnail.png\n",
      "miro-logo-e1652297105879 -> 20220624_211405_thumbnail.png\n",
      "Zoom-Logo-e1652287054151 -> 20220511_143734_thumbnail.png\n",
      "ILIAS-Logo -> 20220512_080130_thumbnail.png\n",
      "Microsoft_Office_Teams_2018–present.svg_-e1652286064116 -> 20220511_142104_thumbnail.png\n",
      "frag.jetzt_Logo-e1652281901215 -> 20220511_131140_thumbnail.png\n",
      "Camtasia_Logo-e1652283047191 -> 20220624_211400_thumbnail.png\n",
      "OBS_Logo-e1652281859679 -> 20220511_131058_thumbnail.png\n"
     ]
    }
   ],
   "source": [
    "for path in pathlib.Path(root_dir).iterdir(): # Path class definition. Instances of the Path class represent a path to a file or directory. Call this path's object iterator.\n",
    "    info = path.stat() # Extract metadata from each file path\n",
    "    mtime = info.st_mtime # Extract creation time (after metadata has been analyzed)\n",
    "    date_created = unix2datetime(mtime) # Add function unix2datetime to convert unix timestamp\n",
    "    thumbnail = ('_thumbnail')  # Define suffix to distinguish header and thumbnail from each other\n",
    "    file_name, file_extension = os.path.splitext(path) # To extract an extension of a file name (splits the pathname into the pair of root and ext)\n",
    "    if file_extension != '.png': # based on the existing .png file formats of the image files; also script with extension .py is in folder, so file type must be defined\n",
    "        continue # Go to next iteration.\n",
    "    new_filename = date_created + thumbnail + file_extension # Define the new file name.\n",
    "    os.rename(path, new_filename) # Rename the file with os module (old name, new name)\n",
    "    print(file_name, '->', new_filename) # Printing from old file name to new file name = renaming process"
   ]
  },
  {
   "cell_type": "code",
   "execution_count": 11,
   "id": "e470bf51",
   "metadata": {},
   "outputs": [],
   "source": [
    "# B) Header Image modification (Grayscale + Resize) with pillow\n",
    "\n",
    "# STEPS:\n",
    "\n",
    "# 1. Convert RGB images to grayscale (only header)\n",
    "# 2. Resize images (only header)"
   ]
  },
  {
   "cell_type": "code",
   "execution_count": 12,
   "id": "94b2442c",
   "metadata": {},
   "outputs": [],
   "source": [
    "from PIL import Image # Load Image Module from Pillow (PIL)"
   ]
  },
  {
   "cell_type": "code",
   "execution_count": 13,
   "id": "ef814e98",
   "metadata": {},
   "outputs": [],
   "source": [
    "root_dir = '.' # currently running folder > script is located in this folder"
   ]
  },
  {
   "cell_type": "code",
   "execution_count": 14,
   "id": "f67b8fea",
   "metadata": {},
   "outputs": [],
   "source": [
    "for file in os.listdir(root_dir): # returns a list containing the names of the entries in the root directory\n",
    "    if file.endswith(\".jpeg\"): # selects files with file extension .jpeg\n",
    "        img = Image.open(file) # opens and identifies the given image files woth the specifix file extension\n",
    "        img_resize = img.resize((1048, 550)) # returns a resized copy of the images with 1048 x 500 px\n",
    "        img_resize.save(file) # saves the resized copy of the images\n",
    "        imgGray = img.convert('L') # Returns a converted copy of this image, L stands for 8-bit black and white images, i.e. an output in grayscale.\n",
    "        imgGray.save(file) # Saves the resized and grayscaled copy of the picture."
   ]
  },
  {
   "cell_type": "code",
   "execution_count": 15,
   "id": "9380028f",
   "metadata": {},
   "outputs": [],
   "source": [
    "# C) Thumbnail Image modification (Resize)\n",
    "\n",
    "# STEPS: \n",
    "\n",
    "# 1. Resize images (only thumbnail)"
   ]
  },
  {
   "cell_type": "code",
   "execution_count": 16,
   "id": "e0566f80",
   "metadata": {},
   "outputs": [],
   "source": [
    "for file in os.listdir(root_dir): # returns a list containing the names of the entries in the root directory\n",
    "    if file.endswith(\".png\"): # selects files with file extension .png\n",
    "        img = Image.open(file) # opens and identifies the given image files woth the specifix file extension\n",
    "        img_resize = img.resize((150, 150 )) # returns a resized copy of the images with 150 x 150 px\n",
    "        img_resize.save(file) # Saves the resized copy of the picture."
   ]
  },
  {
   "cell_type": "code",
   "execution_count": 17,
   "id": "4ad14d92",
   "metadata": {},
   "outputs": [],
   "source": [
    "# D) Convert Images to WEBP\n",
    "\n",
    "# STEPS:\n",
    "\n",
    "# 1. Select all files with the file extension .jpeg and .png\n",
    "# 2. Split the path name and extracting extension.\n",
    "# 3. Convert into RGBA color spaces (for losless WebP)\n",
    "# 4. Convert into WebP and save copy in root directory."
   ]
  },
  {
   "cell_type": "code",
   "execution_count": 18,
   "id": "e94e8c6f",
   "metadata": {},
   "outputs": [],
   "source": [
    "# Import libraries (based on research for suitable libraries)"
   ]
  },
  {
   "cell_type": "code",
   "execution_count": 19,
   "id": "db915206",
   "metadata": {},
   "outputs": [],
   "source": [
    "from PIL import Image # Load Image Module from Pillow (PIL)"
   ]
  },
  {
   "cell_type": "code",
   "execution_count": 20,
   "id": "7a895c67",
   "metadata": {},
   "outputs": [],
   "source": [
    "import glob, os # interact with operating system, import glob module (finds all the pathnames matching a specified pattern)"
   ]
  },
  {
   "cell_type": "code",
   "execution_count": 21,
   "id": "df69d87e",
   "metadata": {},
   "outputs": [],
   "source": [
    "for infile in glob.glob(\"*.jpeg\"): # Finds all pathnames with the pattern 'file extension = .jpeg'\n",
    "    file, ext = os.path.splitext(infile) # Splits the path name into a pair root and ext (= extension).\n",
    "    img = Image.open(infile).convert(\"RGBA\") # Convert into RGBA color spaces (because lossless WebP works exclusively with the RGBA format, a 4-channel format containing data for Red, Green, Blue, and Alpha > Alpha is important for making color transpartent.)\n",
    "    img.save(file + \".webp\", \"WEBP\") # Saves the converted copy of the picture."
   ]
  },
  {
   "cell_type": "code",
   "execution_count": 22,
   "id": "1d4a8b65",
   "metadata": {},
   "outputs": [],
   "source": [
    "for infile in glob.glob(\"*.png\"): # Finds all pathnames with the pattern 'file extension = .png'\n",
    "    file, ext = os.path.splitext(infile) # Splits the path name into a pair root and ext (= extension).\n",
    "    img = Image.open(infile).convert(\"RGBA\") # Convert into RGBA color spaces (because lossless WebP works exclusively with the RGBA format, a 4-channel format containing data for Red, Green, Blue, and Alpha > Alpha is important for making color transpartent.)\n",
    "    img.save(file + \".webp\", \"WEBP\") # Saves the converted copy of the picture."
   ]
  },
  {
   "cell_type": "code",
   "execution_count": 23,
   "id": "1707bae7",
   "metadata": {},
   "outputs": [],
   "source": [
    "# E) Storage in two folders \n",
    "\n",
    "# It can also be considered to store the WebP files in D) directly in a new storage. Here, the steps have been separated to make them easier to follow.\n",
    "\n",
    "# STEPS:\n",
    "\n",
    "# 1. Create new directory 'webp_data' in root directory\n",
    "# 2. Create new directory 'image_data' (for .jpeg + .png files) in root directory\n",
    "# 3. Define the root directory and the destination directories for different file extension (= webp_data + image_data)\n",
    "# 4. Select files with file extension .png + .jpeg from root directory and move to destination directory image_data\n",
    "# 5. Select files with file extension .webp from root directory and move to destination directory webp_data\n",
    "# 6. Remove files in root directoy (because they are now located in destination directory)"
   ]
  },
  {
   "cell_type": "code",
   "execution_count": 24,
   "id": "8a728fb3",
   "metadata": {},
   "outputs": [],
   "source": [
    "# Import libraries (based on research for suitable libraries)"
   ]
  },
  {
   "cell_type": "code",
   "execution_count": 25,
   "id": "dd34924b",
   "metadata": {},
   "outputs": [],
   "source": [
    "import os # interact with operating system"
   ]
  },
  {
   "cell_type": "code",
   "execution_count": 26,
   "id": "117e616b",
   "metadata": {},
   "outputs": [],
   "source": [
    "directory = \"webp_data\" # define and name of new directory"
   ]
  },
  {
   "cell_type": "code",
   "execution_count": 27,
   "id": "85eb0467",
   "metadata": {},
   "outputs": [],
   "source": [
    "root_dir = '.' # define root directory"
   ]
  },
  {
   "cell_type": "code",
   "execution_count": 28,
   "id": "ec656e34",
   "metadata": {},
   "outputs": [],
   "source": [
    "path = os.path.join(root_dir, directory) # create path to new directory"
   ]
  },
  {
   "cell_type": "code",
   "execution_count": 29,
   "id": "7e275e93",
   "metadata": {},
   "outputs": [
    {
     "name": "stdout",
     "output_type": "stream",
     "text": [
      "Directory 'webp_data' created\n"
     ]
    }
   ],
   "source": [
    "os.mkdir(path) # Create the directory 'webp_data' in root directory, response positive \"Directory 'webp_data' created\"\n",
    "print(\"Directory '% s' created\" % directory)"
   ]
  },
  {
   "cell_type": "code",
   "execution_count": 30,
   "id": "d147faa7",
   "metadata": {},
   "outputs": [],
   "source": [
    "directory = \"image_data\" # define and name of new directory"
   ]
  },
  {
   "cell_type": "code",
   "execution_count": 31,
   "id": "04401b6d",
   "metadata": {},
   "outputs": [],
   "source": [
    "root_dir = '.' # define root directory"
   ]
  },
  {
   "cell_type": "code",
   "execution_count": 32,
   "id": "02f6540a",
   "metadata": {},
   "outputs": [],
   "source": [
    "path = os.path.join(root_dir, directory) # create path to new directory"
   ]
  },
  {
   "cell_type": "code",
   "execution_count": 33,
   "id": "db30174b",
   "metadata": {},
   "outputs": [
    {
     "name": "stdout",
     "output_type": "stream",
     "text": [
      "Directory 'image_data' created\n"
     ]
    }
   ],
   "source": [
    "os.mkdir(path) # Create the directory 'image_data' in root directory, response positive \"Directory 'image_data' created\"\n",
    "print(\"Directory '% s' created\" % directory)"
   ]
  },
  {
   "cell_type": "code",
   "execution_count": 34,
   "id": "87224add",
   "metadata": {},
   "outputs": [],
   "source": [
    "# Import libraries (based on research for suitable libraries)"
   ]
  },
  {
   "cell_type": "code",
   "execution_count": 35,
   "id": "4b8c4c80",
   "metadata": {},
   "outputs": [],
   "source": [
    "import os, shutil # interact with operating system, shutil > to copy the content of source file to destination file "
   ]
  },
  {
   "cell_type": "code",
   "execution_count": 36,
   "id": "8b732d50",
   "metadata": {},
   "outputs": [],
   "source": [
    "root_dir = \".\" # define root directory\n",
    "destination_dir = \"./image_data\" # define destination directory (subfolder in root directory)\n",
    "for file in os.listdir(root_dir): # returns a list containing the names of the entries in the root directory\n",
    "    if file.endswith(\".png\"): # selects files with file extension .png\n",
    "        source = os.path.join(root_dir, file) # join path components root directory and selected files > in source directory\n",
    "        destination = os.path.join(destination_dir, file) # join path components destination directory and selected files > in destination directory\n",
    "        dest = shutil.copyfile(source, destination) # Copy the contents of the files named 'source' to files named 'destination'\n",
    "        os.remove(file) # Remove selected files in root directory (because they are removed in new folder)"
   ]
  },
  {
   "cell_type": "code",
   "execution_count": 37,
   "id": "49abebe8",
   "metadata": {},
   "outputs": [],
   "source": [
    "root_dir = \".\" # define root directory\n",
    "destination_dir = \"./image_data\" # define destination directory (subfolder in root directory)\n",
    "for file in os.listdir(root_dir): # returns a list containing the names of the entries in the root directory\n",
    "    if file.endswith(\".jpeg\"): # selects files with file extension .jpeg\n",
    "        source = os.path.join(root_dir, file) # join path components root directory and selected files > in source directory\n",
    "        destination = os.path.join(destination_dir, file) # join path components destination directory and selected files > in destination directory\n",
    "        dest = shutil.copyfile(source, destination) # Copy the contents of the files named 'source' to files named 'destination'\n",
    "        os.remove(file) # Remove selected files in root directory (because they are removed in new folder)."
   ]
  },
  {
   "cell_type": "code",
   "execution_count": 38,
   "id": "fc5909fe",
   "metadata": {},
   "outputs": [],
   "source": [
    "root_dir = \".\" # define root directory\n",
    "destination_dir = \"./webp_data\" # define destination directory (subfolder in root directory)\n",
    "for file in os.listdir(root_dir): # returns a list containing the names of the entries in the root directory\n",
    "    if file.endswith(\".webp\"): # selects files with file extension .webp\n",
    "        source = os.path.join(root_dir, file) # join path components root directory and selected files > in source directory\n",
    "        destination = os.path.join(destination_dir, file) # join path components destination directory and selected files > in destination directory\n",
    "        dest = shutil.copyfile(source, destination) # Copy the contents of the files named 'source' to files named 'destination'\n",
    "        os.remove(file) # Remove selected files in root directory (because they are removed in new folder)."
   ]
  },
  {
   "cell_type": "code",
   "execution_count": 39,
   "id": "14340c17",
   "metadata": {},
   "outputs": [],
   "source": [
    "# YOU'RE DONE!"
   ]
  }
 ],
 "metadata": {
  "kernelspec": {
   "display_name": "Python 3 (ipykernel)",
   "language": "python",
   "name": "python3"
  },
  "language_info": {
   "codemirror_mode": {
    "name": "ipython",
    "version": 3
   },
   "file_extension": ".py",
   "mimetype": "text/x-python",
   "name": "python",
   "nbconvert_exporter": "python",
   "pygments_lexer": "ipython3",
   "version": "3.9.7"
  }
 },
 "nbformat": 4,
 "nbformat_minor": 5
}
