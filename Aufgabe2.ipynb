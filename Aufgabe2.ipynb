{
 "cells": [
  {
   "cell_type": "code",
   "execution_count": 18,
   "id": "34ebf985",
   "metadata": {},
   "outputs": [],
   "source": [
    "# A) File Rename With Image Metadata and Suffix\n",
    "\n",
    "# STEPS:\n",
    "\n",
    "# 1. Target each image in our root directory (where the image files are stored)\n",
    "# 2. Strip datetime metadata from each image\n",
    "# 3. Rename each image using datetime string and Suffix \"Header\" / \"Thumbnail\""
   ]
  },
  {
   "cell_type": "code",
   "execution_count": 19,
   "id": "ef2fa575",
   "metadata": {},
   "outputs": [],
   "source": [
    "# Import libraries (based on research for suitable libraries)"
   ]
  },
  {
   "cell_type": "code",
   "execution_count": 20,
   "id": "9992dcca",
   "metadata": {},
   "outputs": [],
   "source": [
    "import os # interact with operating system"
   ]
  },
  {
   "cell_type": "code",
   "execution_count": 21,
   "id": "c4056618",
   "metadata": {},
   "outputs": [],
   "source": [
    "import pathlib # interact with file system (because we want to rename files)"
   ]
  },
  {
   "cell_type": "code",
   "execution_count": 22,
   "id": "e609d76a",
   "metadata": {},
   "outputs": [],
   "source": [
    "from datetime import datetime # Import date time module"
   ]
  },
  {
   "cell_type": "code",
   "execution_count": 23,
   "id": "55fb71d3",
   "metadata": {},
   "outputs": [],
   "source": [
    "def unix2datetime(unix): # Definition of a funtion (Convert unix timestamp to utc datetime string (for human readable date, research with stack overflow)\n",
    "    return datetime.utcfromtimestamp(unix).strftime('%Y%m%d_%H%M%S') # Create date according to ISO 8601"
   ]
  },
  {
   "cell_type": "code",
   "execution_count": 24,
   "id": "d87b158c",
   "metadata": {},
   "outputs": [],
   "source": [
    "# Define root directory and target root directory and each file path."
   ]
  },
  {
   "cell_type": "code",
   "execution_count": 25,
   "id": "c6434114",
   "metadata": {},
   "outputs": [],
   "source": [
    "root_dir = '.' # currently running folder > script is located in this folder"
   ]
  },
  {
   "cell_type": "code",
   "execution_count": 26,
   "id": "4f485119",
   "metadata": {},
   "outputs": [],
   "source": [
    "# for-Loop"
   ]
  },
  {
   "cell_type": "code",
   "execution_count": 27,
   "id": "ddb5fb73",
   "metadata": {},
   "outputs": [],
   "source": [
    "for path in pathlib.Path(root_dir).iterdir(): # Path class definition. Instances of the Path class represent a path to a file or directory. Call this path's object iterator.\n",
    "    info = path.stat() # Extract metadata from each file path\n",
    "    mtime = info.st_mtime # Extract creation time (after metadata has been analyzed)\n",
    "    date_created = unix2datetime(mtime) # Add function unix2datetime to convert unix timestamp\n",
    "    header = ('_header') # Define suffix to distinguish header and thumbnail from each other\n",
    "    file_name, file_extension = os.path.splitext(path) # To extract an extension of a file name (splits the pathname into the pair of root and ext)\n",
    "    if file_extension != '.jpeg': # based on the existing .jpeg file formats of the image files; also script with extension .py is in folder, so file type must be defined\n",
    "        continue # Go to next iteration.\n",
    "    new_filename = date_created + header + file_extension # Define the new file name.\n",
    "    os.rename(path, new_filename) # Rename the file with os module (old name, new name)\n",
    "    print(file_name, '->', new_filename)"
   ]
  },
  {
   "cell_type": "code",
   "execution_count": 28,
   "id": "37e9e75a",
   "metadata": {},
   "outputs": [],
   "source": [
    "for path in pathlib.Path(root_dir).iterdir(): # Path class definition. Instances of the Path class represent a path to a file or directory. Call this path's object iterator.\n",
    "    info = path.stat() # Extract metadata from each file path\n",
    "    mtime = info.st_mtime # Extract creation time (after metadata has been analyzed)\n",
    "    date_created = unix2datetime(mtime) # Add function unix2datetime to convert unix timestamp\n",
    "    thumbnail = ('_thumbnail')  # Define suffix to distinguish header and thumbnail from each other\n",
    "    file_name, file_extension = os.path.splitext(path) # To extract an extension of a file name (splits the pathname into the pair of root and ext)\n",
    "    if file_extension != '.png': # based on the existing .png file formats of the image files; also script with extension .py is in folder, so file type must be defined\n",
    "        continue # Go to next iteration.\n",
    "    new_filename = date_created + thumbnail + file_extension # Define the new file name.\n",
    "    os.rename(path, new_filename) # Rename the file with os module (old name, new name)\n",
    "    print(file_name, '->', new_filename)"
   ]
  },
  {
   "cell_type": "code",
   "execution_count": 29,
   "id": "e470bf51",
   "metadata": {},
   "outputs": [],
   "source": [
    "# B) Header Image modification (Grayscale + Resize) with pillow\n",
    "\n",
    "# STEPS:\n",
    "\n",
    "# 1. Convert RGB images to grayscale (only header)\n",
    "# 2. Resize images (only header)"
   ]
  },
  {
   "cell_type": "code",
   "execution_count": 30,
   "id": "94b2442c",
   "metadata": {},
   "outputs": [],
   "source": [
    "from PIL import Image"
   ]
  },
  {
   "cell_type": "code",
   "execution_count": 31,
   "id": "ef814e98",
   "metadata": {},
   "outputs": [],
   "source": [
    "root_dir = '.'"
   ]
  },
  {
   "cell_type": "code",
   "execution_count": 32,
   "id": "f67b8fea",
   "metadata": {},
   "outputs": [],
   "source": [
    "for file in os.listdir(root_dir):\n",
    "    if file.endswith(\".jpeg\"):\n",
    "        img = Image.open(file)\n",
    "        img_resize = img.resize((1048, 550))\n",
    "        img_resize.save(file)\n",
    "        imgGray = img.convert('L')\n",
    "        imgGray.save(file)"
   ]
  },
  {
   "cell_type": "code",
   "execution_count": 33,
   "id": "9380028f",
   "metadata": {},
   "outputs": [],
   "source": [
    "# C) Thumbnail Image modification (Resize) with pillow\n",
    "\n",
    "# STEPS:\n",
    "\n",
    "# 1. Resize images (only thumbnail)"
   ]
  },
  {
   "cell_type": "code",
   "execution_count": 34,
   "id": "e0566f80",
   "metadata": {},
   "outputs": [],
   "source": [
    "for file in os.listdir(root_dir):\n",
    "    if file.endswith(\".png\"):\n",
    "        img = Image.open(file)\n",
    "        img_resize = img.resize((150, 150))\n",
    "        img_resize.save(file)\n",
    "        imgGray = img.convert('L')\n",
    "        imgGray.save(file)"
   ]
  },
  {
   "cell_type": "code",
   "execution_count": null,
   "id": "c8c24a9d",
   "metadata": {},
   "outputs": [],
   "source": []
  }
 ],
 "metadata": {
  "kernelspec": {
   "display_name": "Python 3 (ipykernel)",
   "language": "python",
   "name": "python3"
  },
  "language_info": {
   "codemirror_mode": {
    "name": "ipython",
    "version": 3
   },
   "file_extension": ".py",
   "mimetype": "text/x-python",
   "name": "python",
   "nbconvert_exporter": "python",
   "pygments_lexer": "ipython3",
   "version": "3.9.7"
  }
 },
 "nbformat": 4,
 "nbformat_minor": 5
}
