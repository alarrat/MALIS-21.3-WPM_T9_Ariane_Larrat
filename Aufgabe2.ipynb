{
 "cells": [
  {
   "cell_type": "code",
   "execution_count": 1,
   "id": "34ebf985",
   "metadata": {},
   "outputs": [],
   "source": [
    "# A) File Rename With Image Metadata\n",
    "\n",
    "# 1. Target each image in our data directory (where the image files are stored)\n",
    "# 2. Strip datetime metadata from each image\n",
    "# 3. Rename each image using datetime string"
   ]
  },
  {
   "cell_type": "code",
   "execution_count": 2,
   "id": "ef2fa575",
   "metadata": {},
   "outputs": [],
   "source": [
    "# Import libraries (based on research for suitable libraries)"
   ]
  },
  {
   "cell_type": "code",
   "execution_count": 3,
   "id": "9992dcca",
   "metadata": {},
   "outputs": [],
   "source": [
    "import os # interact with operating system"
   ]
  },
  {
   "cell_type": "code",
   "execution_count": 4,
   "id": "c4056618",
   "metadata": {},
   "outputs": [],
   "source": [
    "import pathlib # interact with file system (because we want to rename files)"
   ]
  },
  {
   "cell_type": "code",
   "execution_count": 5,
   "id": "d87b158c",
   "metadata": {},
   "outputs": [],
   "source": [
    "# Define root directory and target root directory and each file path."
   ]
  },
  {
   "cell_type": "code",
   "execution_count": 6,
   "id": "c6434114",
   "metadata": {},
   "outputs": [],
   "source": [
    "root_dir = '.' # currently running folder > script is located in this folder"
   ]
  },
  {
   "cell_type": "code",
   "execution_count": 7,
   "id": "4f485119",
   "metadata": {},
   "outputs": [],
   "source": [
    "# for-Loop to target each file in data directory"
   ]
  },
  {
   "cell_type": "code",
   "execution_count": 8,
   "id": "0343aaa2",
   "metadata": {},
   "outputs": [],
   "source": [
    "# based on the existing file formats of the image files; also script with extension .py is in folder, so file type must be defined"
   ]
  },
  {
   "cell_type": "code",
   "execution_count": 9,
   "id": "ddb5fb73",
   "metadata": {},
   "outputs": [
    {
     "name": "stdout",
     "output_type": "stream",
     "text": [
      "Begriffe_Digitale_Lehre-e1652285279574 .jpg 1656086826.7144573\n",
      "OBS-Studio-e1652968780933 .jpg 1656086826.7337136\n",
      "Forschendes-Lernen-1-e1652296208947 .jpg 1656086826.7173483\n",
      "Zoom-scaled-e1652286857174 .jpg 1656086826.746738\n",
      "AdobeStock_408070387_tirachard_f .jpg 1656086826.7043405\n",
      "Padlet-Header-e1652294708834 .jpg 1656086826.7369754\n",
      "AdobeStock_349226083_ronstik_f .jpg 1656086826.7008204\n",
      "Livestream_AdobeStock_443965209_DC-Studio_1200-630_f .jpg 1656086826.7240772\n",
      "thspaces-1-e1652295597604 .jpg 1656086826.743575\n",
      "AdobeStock_493546702_Andrey-Popov_f .jpg 1656086826.7077389\n",
      "AdobeStock_499774001_-Jacob-Lund_f .jpg 1656086826.7111902\n",
      "frag.jetzt_-e1652280428362 .jpg 1656086826.7206738\n",
      "Miro-Schmuckbild-e1652297060304 .jpg 1656086826.6942914\n",
      "PowerPoint-e1652293459898 .jpg 1656086826.740376\n",
      "Mentimeter_Header-e1652295026948 .jpg 1656086826.7275217\n",
      "MS-Teams-scaled-e1652285914608 .jpg 1656086826.73064\n",
      "AdobeStock_263904335_golubovy_f .jpg 1656086826.6974783\n"
     ]
    }
   ],
   "source": [
    "for path in pathlib.Path(root_dir).iterdir(): # Path class definition. Instances of the Path class represent a path to a file or directory. Call this path's object iterator.\n",
    "    info = path.stat() # Extract metadata from each file path\n",
    "    date_created = info.st_ctime # Extract creation time (after metadata has been analyzed) \n",
    "    file_name, file_extension = os.path.splitext(path) # To extract an extension of a file name (splits the pathname into the pair of root and ext)\n",
    "    if file_extension != '.jpg': # \n",
    "        continue # Go to next iteration.\n",
    "    print(file_name, file_extension, date_created)"
   ]
  },
  {
   "cell_type": "code",
   "execution_count": null,
   "id": "1f9772d3",
   "metadata": {},
   "outputs": [],
   "source": []
  },
  {
   "cell_type": "code",
   "execution_count": null,
   "id": "e609d76a",
   "metadata": {},
   "outputs": [],
   "source": []
  }
 ],
 "metadata": {
  "kernelspec": {
   "display_name": "Python 3 (ipykernel)",
   "language": "python",
   "name": "python3"
  },
  "language_info": {
   "codemirror_mode": {
    "name": "ipython",
    "version": 3
   },
   "file_extension": ".py",
   "mimetype": "text/x-python",
   "name": "python",
   "nbconvert_exporter": "python",
   "pygments_lexer": "ipython3",
   "version": "3.9.7"
  }
 },
 "nbformat": 4,
 "nbformat_minor": 5
}
